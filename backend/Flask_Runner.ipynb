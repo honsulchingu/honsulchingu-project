{
 "cells": [
  {
   "cell_type": "code",
   "execution_count": null,
   "id": "7cf6b30e-35ac-4ef0-9c58-a2326e2dc76b",
   "metadata": {},
   "outputs": [
    {
     "name": "stdout",
     "output_type": "stream",
     "text": [
      " * Serving Flask app '__main__'\n",
      " * Debug mode: off\n"
     ]
    },
    {
     "name": "stderr",
     "output_type": "stream",
     "text": [
      "WARNING: This is a development server. Do not use it in a production deployment. Use a production WSGI server instead.\n",
      " * Running on all addresses (0.0.0.0)\n",
      " * Running on http://127.0.0.1:5000\n",
      " * Running on http://192.168.219.108:5000\n",
      "Press CTRL+C to quit\n",
      "192.168.219.108 - - [26/Feb/2025 21:08:56] \"POST /chat HTTP/1.1\" 200 -\n",
      "192.168.219.108 - - [26/Feb/2025 21:08:58] \"POST /chat HTTP/1.1\" 200 -\n"
     ]
    }
   ],
   "source": [
    "# pip install flask\n",
    "# Flask → Flask 웹 애플리케이션 객체를 생성하는 데 사용\n",
    "# request → HTTP 요청을 처리하는 객체 (GET, POST 데이터 받기 가능)\n",
    "# jsonify → 데이터를 JSON 형태로 변환하여 응답을 보내는 함수\n",
    "from flask import Flask, request, jsonify\n",
    "\n",
    "app = Flask(__name__)\n",
    "\n",
    "# http://. . . ./ 경로\n",
    "@app.route('/')\n",
    "def home():\n",
    "    return jsonify({\"message\": \"Flask 서버가 정상 작동 중입니다.\"})\n",
    "\n",
    "# http://. . . ./chat 경로\n",
    "@app.route(\"/chat\", methods=[\"POST\"])\n",
    "def chat():\n",
    "    data = request.get_json()\n",
    "    if not data:\n",
    "        return jsonify({\"error\": \".json 데이터가 아닙니다.\"}), 400\n",
    "\n",
    "    user_input = data.get(\"text\", '')\n",
    "    if not user_input:\n",
    "        return jsonify({\"error\": \"전달받은 텍스트가 없습니다.\"}), 400\n",
    "\n",
    "    response = user_input + \" 에 대한 응답입니다.\"\n",
    "    \n",
    "    return jsonify({\"response\": response})\n",
    "\n",
    "# 모든 IP에서 접근 가능하도록 실행\n",
    "if __name__ == \"__main__\":\n",
    "    app.run(host=\"0.0.0.0\", port=5000)"
   ]
  }
 ],
 "metadata": {
  "kernelspec": {
   "display_name": "base",
   "language": "python",
   "name": "python3"
  },
  "language_info": {
   "codemirror_mode": {
    "name": "ipython",
    "version": 3
   },
   "file_extension": ".py",
   "mimetype": "text/x-python",
   "name": "python",
   "nbconvert_exporter": "python",
   "pygments_lexer": "ipython3",
   "version": "3.12.7"
  }
 },
 "nbformat": 4,
 "nbformat_minor": 5
}
