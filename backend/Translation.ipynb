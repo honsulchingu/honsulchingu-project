{
 "cells": [
  {
   "cell_type": "code",
   "execution_count": 2,
   "id": "540851d8-31fe-47fe-877f-bced50042217",
   "metadata": {},
   "outputs": [],
   "source": [
    "import nbformat\n",
    "\n",
    "def convert_ipynb_to_py(ipynb_file, py_file):\n",
    "    with open(ipynb_file, \"r\", encoding=\"utf-8\") as f:\n",
    "        notebook = nbformat.read(f, as_version=4)\n",
    "\n",
    "    code_cells = []\n",
    "    for cell in notebook.cells:\n",
    "        if cell.cell_type == \"code\":\n",
    "            code_cells.append(cell.source)\n",
    "\n",
    "    with open(py_file, \"w\", encoding=\"utf-8\") as f:\n",
    "        f.write(\"\\n\\n\".join(code_cells))\n",
    "\n",
    "# 변환 실행\n",
    "convert_ipynb_to_py(\n",
    "    \"C:/Users/Alps1/back_end/Flask_Runner.ipynb\",\n",
    "    \"C:/Users/Alps1/back_end/Flask_Runner.py\"\n",
    ")"
   ]
  }
 ],
 "metadata": {
  "kernelspec": {
   "display_name": "base",
   "language": "python",
   "name": "python3"
  },
  "language_info": {
   "codemirror_mode": {
    "name": "ipython",
    "version": 3
   },
   "file_extension": ".py",
   "mimetype": "text/x-python",
   "name": "python",
   "nbconvert_exporter": "python",
   "pygments_lexer": "ipython3",
   "version": "3.12.7"
  }
 },
 "nbformat": 4,
 "nbformat_minor": 5
}
