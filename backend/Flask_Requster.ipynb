{
 "cells": [
  {
   "cell_type": "code",
   "execution_count": 1,
   "id": "ceaf2c8e-f779-40af-ae96-a1029ada7b7f",
   "metadata": {},
   "outputs": [
    {
     "name": "stdout",
     "output_type": "stream",
     "text": [
      "안녕! 에 대한 응답입니다.\n"
     ]
    }
   ],
   "source": [
    "import requests\n",
    "\n",
    "#url = \"http://127.0.0.1:5000/chat\"\n",
    "#url = \"http://192.168.219.123:5000/chat\"\n",
    "url = \"http://192.168.219.108:5000/chat\"\n",
    "data = {\"text\": \"안녕!\"}\n",
    "\n",
    "response = requests.post(url, json=data)\n",
    "print(response.json().get(\"response\", ''))"
   ]
  },
  {
   "cell_type": "code",
   "execution_count": 2,
   "id": "1f696944-6720-4d8b-bdce-1103ccac4b20",
   "metadata": {},
   "outputs": [
    {
     "name": "stdout",
     "output_type": "stream",
     "text": [
      "안녕!2 에 대한 응답입니다.\n"
     ]
    }
   ],
   "source": [
    "import requests\n",
    "\n",
    "#url = \"http://127.0.0.1:5000/chat\"\n",
    "#url = \"http://192.168.219.123:5000/chat\"\n",
    "url = \"http://192.168.219.108:5000/chat\"\n",
    "data = {\"text\": \"안녕!2\"}\n",
    "\n",
    "response = requests.post(url, json=data)\n",
    "print(response.json().get(\"response\", ''))"
   ]
  }
 ],
 "metadata": {
  "kernelspec": {
   "display_name": "base",
   "language": "python",
   "name": "python3"
  },
  "language_info": {
   "codemirror_mode": {
    "name": "ipython",
    "version": 3
   },
   "file_extension": ".py",
   "mimetype": "text/x-python",
   "name": "python",
   "nbconvert_exporter": "python",
   "pygments_lexer": "ipython3",
   "version": "3.12.7"
  }
 },
 "nbformat": 4,
 "nbformat_minor": 5
}
